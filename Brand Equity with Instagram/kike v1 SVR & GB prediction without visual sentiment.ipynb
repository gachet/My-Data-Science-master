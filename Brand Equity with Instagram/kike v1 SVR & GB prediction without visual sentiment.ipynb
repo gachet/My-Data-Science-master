{
 "cells": [
  {
   "cell_type": "markdown",
   "metadata": {},
   "source": [
    "# Case 2. Prediction of image likes using SVR"
   ]
  },
  {
   "cell_type": "markdown",
   "metadata": {},
   "source": [
    "We are going to use the SVR (Support Vector Regressor) with train + test dataset (80-20). For evaluating the model we will use the Spearman's rank correlation coefficient."
   ]
  },
  {
   "cell_type": "code",
   "execution_count": 16,
   "metadata": {
    "collapsed": true
   },
   "outputs": [],
   "source": [
    "import csv\n",
    "import pandas as pd\n",
    "import numpy as np\n",
    "import matplotlib\n",
    "import matplotlib.pyplot as plt\n",
    "from collections import Counter\n",
    "from sklearn.svm import SVR\n",
    "import time\n",
    "from sklearn.ensemble import GradientBoostingRegressor"
   ]
  },
  {
   "cell_type": "code",
   "execution_count": 17,
   "metadata": {
    "collapsed": true
   },
   "outputs": [],
   "source": [
    "matplotlib.style.use('ggplot')\n",
    "%matplotlib inline \n",
    "pd.set_option('display.max_rows', 500)\n",
    "pd.set_option('display.max_columns', 500)\n",
    "pd.options.display.max_colwidth = 200\n",
    "pd.set_option('display.width', 1000)"
   ]
  },
  {
   "cell_type": "code",
   "execution_count": 18,
   "metadata": {
    "collapsed": false
   },
   "outputs": [],
   "source": [
    "D_DIR = \"../data/\"\n",
    "mcdonalds_icmr_clean = \"mcdonalds/df_mc_20161005.pkl\"\n",
    "burgerking_icmr_clean = \"burgerking/df_bk_20161005.pkl\"\n",
    "df_mc_ = pd.read_pickle(D_DIR + mcdonalds_icmr_clean) # dump csv into a Pandas DataFrame\n",
    "df_bk_ = pd.read_pickle(D_DIR + burgerking_icmr_clean) # dump csv into a Pandas DataFrame"
   ]
  },
  {
   "cell_type": "code",
   "execution_count": null,
   "metadata": {
    "collapsed": true
   },
   "outputs": [],
   "source": []
  },
  {
   "cell_type": "code",
   "execution_count": 1,
   "metadata": {
    "collapsed": false,
    "scrolled": true
   },
   "outputs": [
    {
     "ename": "NameError",
     "evalue": "name 'df_mc_' is not defined",
     "output_type": "error",
     "traceback": [
      "\u001b[1;31m---------------------------------------------------------------------------\u001b[0m",
      "\u001b[1;31mNameError\u001b[0m                                 Traceback (most recent call last)",
      "\u001b[1;32m<ipython-input-1-4e061069b2c9>\u001b[0m in \u001b[0;36m<module>\u001b[1;34m()\u001b[0m\n\u001b[1;32m----> 1\u001b[1;33m \u001b[0mdf_mc_\u001b[0m\u001b[1;33m.\u001b[0m\u001b[0mhead\u001b[0m\u001b[1;33m(\u001b[0m\u001b[1;36m2\u001b[0m\u001b[1;33m)\u001b[0m\u001b[1;33m\u001b[0m\u001b[0m\n\u001b[0m",
      "\u001b[1;31mNameError\u001b[0m: name 'df_mc_' is not defined"
     ]
    }
   ],
   "source": [
    "df_mc_.head(2)"
   ]
  },
  {
   "cell_type": "code",
   "execution_count": 4,
   "metadata": {
    "collapsed": false
   },
   "outputs": [],
   "source": [
    "# fit SVR with filter_attribute_num, face_attribute_num, logo_attribute_num, food_attribute_num, weekend_attribute_num,\n",
    "# sentiment_attribute_num, likes_followed_ratio, brand_num, postedMedia, followersCount, followedByCount, imageTagCount\n",
    "# PREDICT imageLikeCount\n",
    "df_mc_[\"filter_attribute_num\"] = df_mc_[\"filter_attribute\"].map(lambda x: 0 if x == \"filter no\" else 1)\n",
    "df_mc_[\"face_attribute_num\"] = df_mc_[\"face_attribute\"].map(lambda x: 0 if x == \"face no\" else 1)\n",
    "df_mc_[\"logo_attribute_num\"] = df_mc_[\"logo_attribute\"].map(lambda x: 0 if x == \"logo no\" else 1)\n",
    "df_mc_[\"food_attribute_num\"] = df_mc_[\"food_attribute\"].map(lambda x: 0 if x == \"food no\" else 1)\n",
    "df_mc_[\"weekend_attribute_num\"] = df_mc_[\"weekend_attribute\"].map(lambda x: 0 if x == \"weekend no\" else 1)\n",
    "df_mc_[\"brand_num\"] = df_mc_[\"brand\"].map(lambda x: 0 if x == \"McDonalds\" else 1)"
   ]
  },
  {
   "cell_type": "code",
   "execution_count": 118,
   "metadata": {
    "collapsed": false
   },
   "outputs": [
    {
     "data": {
      "text/html": [
       "<div>\n",
       "<table border=\"1\" class=\"dataframe\">\n",
       "  <thead>\n",
       "    <tr style=\"text-align: right;\">\n",
       "      <th></th>\n",
       "      <th>imageTagCount</th>\n",
       "      <th>imageLikeCount</th>\n",
       "      <th>imageCommentCount</th>\n",
       "      <th>followedByCount</th>\n",
       "      <th>followersCount</th>\n",
       "      <th>postedMedia</th>\n",
       "      <th>googleFaceCount</th>\n",
       "      <th>likes_followed_ratio</th>\n",
       "      <th>sentiment_attribute_num</th>\n",
       "      <th>filter_attribute_num</th>\n",
       "      <th>face_attribute_num</th>\n",
       "      <th>logo_attribute_num</th>\n",
       "      <th>food_attribute_num</th>\n",
       "      <th>weekend_attribute_num</th>\n",
       "    </tr>\n",
       "  </thead>\n",
       "  <tbody>\n",
       "    <tr>\n",
       "      <th>count</th>\n",
       "      <td>28130.000000</td>\n",
       "      <td>28130.000000</td>\n",
       "      <td>28130.000000</td>\n",
       "      <td>28130.000000</td>\n",
       "      <td>28130.000000</td>\n",
       "      <td>28130.000000</td>\n",
       "      <td>28130.000000</td>\n",
       "      <td>28130.000000</td>\n",
       "      <td>28130.000000</td>\n",
       "      <td>28130.000000</td>\n",
       "      <td>28130.000000</td>\n",
       "      <td>28130.000000</td>\n",
       "      <td>28130.000000</td>\n",
       "      <td>28130.000000</td>\n",
       "    </tr>\n",
       "    <tr>\n",
       "      <th>mean</th>\n",
       "      <td>9.125489</td>\n",
       "      <td>37.730181</td>\n",
       "      <td>1.660683</td>\n",
       "      <td>1049.101066</td>\n",
       "      <td>552.508603</td>\n",
       "      <td>600.496516</td>\n",
       "      <td>0.709101</td>\n",
       "      <td>9.153003</td>\n",
       "      <td>0.061571</td>\n",
       "      <td>0.519765</td>\n",
       "      <td>0.299289</td>\n",
       "      <td>0.299289</td>\n",
       "      <td>0.205795</td>\n",
       "      <td>0.341735</td>\n",
       "    </tr>\n",
       "    <tr>\n",
       "      <th>std</th>\n",
       "      <td>7.586910</td>\n",
       "      <td>128.179835</td>\n",
       "      <td>5.072387</td>\n",
       "      <td>5742.877412</td>\n",
       "      <td>906.572836</td>\n",
       "      <td>1100.301146</td>\n",
       "      <td>1.528366</td>\n",
       "      <td>19.085723</td>\n",
       "      <td>0.209126</td>\n",
       "      <td>0.499618</td>\n",
       "      <td>0.457955</td>\n",
       "      <td>0.457955</td>\n",
       "      <td>0.404288</td>\n",
       "      <td>0.474300</td>\n",
       "    </tr>\n",
       "    <tr>\n",
       "      <th>min</th>\n",
       "      <td>1.000000</td>\n",
       "      <td>0.000000</td>\n",
       "      <td>0.000000</td>\n",
       "      <td>0.000000</td>\n",
       "      <td>0.000000</td>\n",
       "      <td>0.000000</td>\n",
       "      <td>0.000000</td>\n",
       "      <td>0.000000</td>\n",
       "      <td>-1.000000</td>\n",
       "      <td>0.000000</td>\n",
       "      <td>0.000000</td>\n",
       "      <td>0.000000</td>\n",
       "      <td>0.000000</td>\n",
       "      <td>0.000000</td>\n",
       "    </tr>\n",
       "    <tr>\n",
       "      <th>25%</th>\n",
       "      <td>4.000000</td>\n",
       "      <td>10.000000</td>\n",
       "      <td>0.000000</td>\n",
       "      <td>170.000000</td>\n",
       "      <td>151.000000</td>\n",
       "      <td>124.000000</td>\n",
       "      <td>0.000000</td>\n",
       "      <td>2.781331</td>\n",
       "      <td>0.000000</td>\n",
       "      <td>0.000000</td>\n",
       "      <td>0.000000</td>\n",
       "      <td>0.000000</td>\n",
       "      <td>0.000000</td>\n",
       "      <td>0.000000</td>\n",
       "    </tr>\n",
       "    <tr>\n",
       "      <th>50%</th>\n",
       "      <td>6.000000</td>\n",
       "      <td>19.000000</td>\n",
       "      <td>0.000000</td>\n",
       "      <td>334.000000</td>\n",
       "      <td>292.000000</td>\n",
       "      <td>297.000000</td>\n",
       "      <td>0.000000</td>\n",
       "      <td>5.438699</td>\n",
       "      <td>0.000000</td>\n",
       "      <td>1.000000</td>\n",
       "      <td>0.000000</td>\n",
       "      <td>0.000000</td>\n",
       "      <td>0.000000</td>\n",
       "      <td>0.000000</td>\n",
       "    </tr>\n",
       "    <tr>\n",
       "      <th>75%</th>\n",
       "      <td>12.000000</td>\n",
       "      <td>36.000000</td>\n",
       "      <td>2.000000</td>\n",
       "      <td>671.000000</td>\n",
       "      <td>570.000000</td>\n",
       "      <td>667.000000</td>\n",
       "      <td>1.000000</td>\n",
       "      <td>10.606061</td>\n",
       "      <td>0.000000</td>\n",
       "      <td>1.000000</td>\n",
       "      <td>1.000000</td>\n",
       "      <td>1.000000</td>\n",
       "      <td>0.000000</td>\n",
       "      <td>1.000000</td>\n",
       "    </tr>\n",
       "    <tr>\n",
       "      <th>max</th>\n",
       "      <td>58.000000</td>\n",
       "      <td>12443.000000</td>\n",
       "      <td>388.000000</td>\n",
       "      <td>541112.000000</td>\n",
       "      <td>7504.000000</td>\n",
       "      <td>33629.000000</td>\n",
       "      <td>24.000000</td>\n",
       "      <td>1200.000000</td>\n",
       "      <td>1.000000</td>\n",
       "      <td>1.000000</td>\n",
       "      <td>1.000000</td>\n",
       "      <td>1.000000</td>\n",
       "      <td>1.000000</td>\n",
       "      <td>1.000000</td>\n",
       "    </tr>\n",
       "  </tbody>\n",
       "</table>\n",
       "</div>"
      ],
      "text/plain": [
       "       imageTagCount  imageLikeCount  imageCommentCount  followedByCount  followersCount   postedMedia  googleFaceCount  likes_followed_ratio  sentiment_attribute_num  filter_attribute_num  face_attribute_num  logo_attribute_num  food_attribute_num  weekend_attribute_num\n",
       "count   28130.000000    28130.000000       28130.000000     28130.000000    28130.000000  28130.000000     28130.000000          28130.000000             28130.000000          28130.000000        28130.000000        28130.000000        28130.000000           28130.000000\n",
       "mean        9.125489       37.730181           1.660683      1049.101066      552.508603    600.496516         0.709101              9.153003                 0.061571              0.519765            0.299289            0.299289            0.205795               0.341735\n",
       "std         7.586910      128.179835           5.072387      5742.877412      906.572836   1100.301146         1.528366             19.085723                 0.209126              0.499618            0.457955            0.457955            0.404288               0.474300\n",
       "min         1.000000        0.000000           0.000000         0.000000        0.000000      0.000000         0.000000              0.000000                -1.000000              0.000000            0.000000            0.000000            0.000000               0.000000\n",
       "25%         4.000000       10.000000           0.000000       170.000000      151.000000    124.000000         0.000000              2.781331                 0.000000              0.000000            0.000000            0.000000            0.000000               0.000000\n",
       "50%         6.000000       19.000000           0.000000       334.000000      292.000000    297.000000         0.000000              5.438699                 0.000000              1.000000            0.000000            0.000000            0.000000               0.000000\n",
       "75%        12.000000       36.000000           2.000000       671.000000      570.000000    667.000000         1.000000             10.606061                 0.000000              1.000000            1.000000            1.000000            0.000000               1.000000\n",
       "max        58.000000    12443.000000         388.000000    541112.000000     7504.000000  33629.000000        24.000000           1200.000000                 1.000000              1.000000            1.000000            1.000000            1.000000               1.000000"
      ]
     },
     "execution_count": 118,
     "metadata": {},
     "output_type": "execute_result"
    }
   ],
   "source": [
    "df_mc_numerical.describe()"
   ]
  },
  {
   "cell_type": "code",
   "execution_count": 117,
   "metadata": {
    "collapsed": false
   },
   "outputs": [
    {
     "name": "stderr",
     "output_type": "stream",
     "text": [
      "C:\\MINICONDA2\\lib\\site-packages\\ipykernel\\__main__.py:2: SettingWithCopyWarning: \n",
      "A value is trying to be set on a copy of a slice from a DataFrame.\n",
      "Try using .loc[row_indexer,col_indexer] = value instead\n",
      "\n",
      "See the caveats in the documentation: http://pandas.pydata.org/pandas-docs/stable/indexing.html#indexing-view-versus-copy\n",
      "  from ipykernel import kernelapp as app\n"
     ]
    }
   ],
   "source": [
    "max_likes_followed_ratio = df_mc_numerical[\"likes_followed_ratio\"].replace([np.inf, -np.inf], np.nan).max()\n",
    "df_mc_numerical[\"likes_followed_ratio\"] = df_mc_numerical[\"likes_followed_ratio\"].replace([np.inf, -np.inf], max_likes_followed_ratio)"
   ]
  },
  {
   "cell_type": "code",
   "execution_count": 8,
   "metadata": {
    "collapsed": false
   },
   "outputs": [],
   "source": [
    "sample_size = 30000\n",
    "train_columns = [\"imageTagCount\",\n",
    "                 # \"imageLikeCount\",\n",
    "                 \"imageCommentCount\",\n",
    "                 \"followedByCount\",\n",
    "                 \"followersCount\",\n",
    "                 \"postedMedia\",\n",
    "                 \"googleFaceCount\",\n",
    "                 #\"likes_followed_ratio\",\n",
    "                 \"sentiment_attribute_num\", \"filter_attribute_num\", \"face_attribute_num\",\n",
    "                 \"logo_attribute_num\", \"food_attribute_num\", \"weekend_attribute_num\"]\n",
    "X = pd.concat([df_mc_numerical[attribute] for attribute in train_columns], axis=1)\n",
    "y = df_mc_numerical[\"imageLikeCount\"]"
   ]
  },
  {
   "cell_type": "markdown",
   "metadata": {},
   "source": [
    "### Support Vector Regression"
   ]
  },
  {
   "cell_type": "code",
   "execution_count": null,
   "metadata": {
    "collapsed": false
   },
   "outputs": [
    {
     "name": "stdout",
     "output_type": "stream",
     "text": [
      "[LibSVM]"
     ]
    }
   ],
   "source": [
    "start = time.time()\n",
    "#svr_k = SVR(C=1.0, cache_size=200, coef0=0.0, degree=3, epsilon=0.2, gamma='auto',\n",
    "#    kernel='linear', max_iter=-1, shrinking=True, tol=0.001, verbose=True)\n",
    "\n",
    "svr_k = SVR(C=1.0, cache_size=200, coef0=0.0, degree=3, epsilon=0.2, gamma='auto',\n",
    "    kernel='linear', max_iter=-1, shrinking=True, tol=0.001, verbose=True)\n",
    "\n",
    "svr_k.fit(X, y) \n",
    "print(\"Fitting of the model took\", str(float(time.time() - start)), \"seconds\")"
   ]
  },
  {
   "cell_type": "code",
   "execution_count": null,
   "metadata": {
    "collapsed": false
   },
   "outputs": [],
   "source": [
    "svr_k.coef_"
   ]
  },
  {
   "cell_type": "code",
   "execution_count": 48,
   "metadata": {
    "collapsed": false
   },
   "outputs": [
    {
     "data": {
      "text/plain": [
       "0.82242621543046313"
      ]
     },
     "execution_count": 48,
     "metadata": {},
     "output_type": "execute_result"
    }
   ],
   "source": [
    "# +1 would be the perfect score, -1 worst and \"counter-explain\" the model\n",
    "svr_k.score(X, y) # R^2, how much the model explains"
   ]
  },
  {
   "cell_type": "markdown",
   "metadata": {},
   "source": [
    "## Gradient Boosting Regressor"
   ]
  },
  {
   "cell_type": "code",
   "execution_count": 9,
   "metadata": {
    "collapsed": false
   },
   "outputs": [
    {
     "name": "stdout",
     "output_type": "stream",
     "text": [
      "('Fitting of the model took', '30.1019999981', 'seconds')\n"
     ]
    }
   ],
   "source": [
    "start = time.time()\n",
    "est = GradientBoostingRegressor(n_estimators=1000, learning_rate=0.01, max_depth=4, random_state=0, loss='ls').fit(X, y)\n",
    "print(\"Fitting of the model took\", str(float(time.time() - start)), \"seconds\")"
   ]
  },
  {
   "cell_type": "code",
   "execution_count": 10,
   "metadata": {
    "collapsed": false
   },
   "outputs": [
    {
     "data": {
      "text/plain": [
       "array([ 0.0659974 ,  0.15181176,  0.43198207,  0.08915645,  0.15660889,\n",
       "        0.01271094,  0.05840833,  0.01734283,  0.00376983,  0.00353418,\n",
       "        0.0063602 ,  0.00231712])"
      ]
     },
     "execution_count": 10,
     "metadata": {},
     "output_type": "execute_result"
    }
   ],
   "source": [
    "est.feature_importances_"
   ]
  },
  {
   "cell_type": "code",
   "execution_count": 11,
   "metadata": {
    "collapsed": false
   },
   "outputs": [
    {
     "data": {
      "image/png": "[encoded data removed]",
      "text/plain": [
       "<matplotlib.figure.Figure at 0x1b96b630>"
      ]
     },
     "metadata": {},
     "output_type": "display_data"
    }
   ],
   "source": [
    "fig = plt.figure()\n",
    "\n",
    "x = np.array(range(len(train_columns)))\n",
    "plt.xticks(x, train_columns, rotation=90)\n",
    "plt.plot(x, est.feature_importances_.ravel())\n",
    "fig.set_figwidth(19)\n",
    "fig.set_figheight(7)"
   ]
  },
  {
   "cell_type": "code",
   "execution_count": 12,
   "metadata": {
    "collapsed": false
   },
   "outputs": [
    {
     "data": {
      "text/plain": [
       "0.90803719630610469"
      ]
     },
     "execution_count": 12,
     "metadata": {},
     "output_type": "execute_result"
    }
   ],
   "source": [
    "est.score(X, y)"
   ]
  },
  {
   "cell_type": "code",
   "execution_count": 218,
   "metadata": {
    "collapsed": false
   },
   "outputs": [
    {
     "data": {
      "text/plain": [
       "<sklearn.tree._tree.Tree at 0x1e76fcc8>"
      ]
     },
     "execution_count": 218,
     "metadata": {},
     "output_type": "execute_result"
    }
   ],
   "source": [
    "tree = est.estimators_[0, 0].tree_\n",
    "#tree.children_left\n",
    "leaf_mask = tree.children_left == TREE_LEAF  # TREE_LEAF == -1\n",
    "w_i = tree.value[leaf_mask, 0, 0]"
   ]
  },
  {
   "cell_type": "code",
   "execution_count": 15,
   "metadata": {
    "collapsed": false
   },
   "outputs": [
    {
     "name": "stderr",
     "output_type": "stream",
     "text": [
      "C:\\MINICONDA2\\lib\\site-packages\\sklearn\\utils\\validation.py:386: DeprecationWarning: Passing 1d arrays as data is deprecated in 0.17 and willraise ValueError in 0.19. Reshape your data either using X.reshape(-1, 1) if your data has a single feature or X.reshape(1, -1) if it contains a single sample.\n",
      "  DeprecationWarning)\n"
     ]
    },
    {
     "data": {
      "text/plain": [
       "array([ 95.02932715])"
      ]
     },
     "execution_count": 15,
     "metadata": {},
     "output_type": "execute_result"
    }
   ],
   "source": [
    "est.predict([3, 10, 1000, 100, 100, 0, 0, 0, 0, 0, 0, 0])"
   ]
  },
  {
   "cell_type": "code",
   "execution_count": null,
   "metadata": {
    "collapsed": true
   },
   "outputs": [],
   "source": [
    "# http://scikit-learn.org/stable/auto_examples/svm/plot_svm_regression.html#sphx-glr-auto-examples-svm-plot-svm-regression-py\n",
    "svr_rbf = SVR(kernel='rbf', C=1e1, gamma=0.1)\n",
    "svr_lin = SVR(kernel='linear', C=1e1)\n",
    "svr_poly = SVR(kernel='poly', C=1e1, degree=2)\n",
    "y_rbf = svr_rbf.fit(X, y).predict(X)\n",
    "y_lin = svr_lin.fit(X, y).predict(X)\n",
    "y_poly = svr_poly.fit(X, y).predict(X)"
   ]
  },
  {
   "cell_type": "code",
   "execution_count": null,
   "metadata": {
    "collapsed": false
   },
   "outputs": [],
   "source": [
    "# +1 would be the perfect score, -1 worst and \"counter-explain\" the model\n",
    "svr_rbf.score(X, y)"
   ]
  },
  {
   "cell_type": "code",
   "execution_count": null,
   "metadata": {
    "collapsed": false
   },
   "outputs": [],
   "source": [
    "svr_lin.score(X, y)"
   ]
  },
  {
   "cell_type": "code",
   "execution_count": null,
   "metadata": {
    "collapsed": false
   },
   "outputs": [],
   "source": [
    "svr_poly.score(X, y)"
   ]
  },
  {
   "cell_type": "code",
   "execution_count": 62,
   "metadata": {
    "collapsed": false
   },
   "outputs": [
    {
     "ename": "KeyboardInterrupt",
     "evalue": "",
     "output_type": "error",
     "traceback": [
      "\u001b[1;31m---------------------------------------------------------------------------\u001b[0m",
      "\u001b[1;31mKeyboardInterrupt\u001b[0m                         Traceback (most recent call last)",
      "\u001b[1;32m<ipython-input-62-854c53e77500>\u001b[0m in \u001b[0;36m<module>\u001b[1;34m()\u001b[0m\n\u001b[1;32m----> 1\u001b[1;33m \u001b[0msvr_rbf\u001b[0m\u001b[1;33m.\u001b[0m\u001b[0mscore\u001b[0m\u001b[1;33m(\u001b[0m\u001b[0mX\u001b[0m\u001b[1;33m,\u001b[0m \u001b[0my\u001b[0m\u001b[1;33m)\u001b[0m\u001b[1;33m\u001b[0m\u001b[0m\n\u001b[0m\u001b[0;32m      2\u001b[0m \u001b[1;33m\u001b[0m\u001b[0m\n\u001b[0;32m      3\u001b[0m \u001b[0mlw\u001b[0m \u001b[1;33m=\u001b[0m \u001b[1;36m2\u001b[0m\u001b[1;33m\u001b[0m\u001b[0m\n\u001b[0;32m      4\u001b[0m \u001b[1;31m#plt.scatter(X, y, color='darkorange', label='data')\u001b[0m\u001b[1;33m\u001b[0m\u001b[1;33m\u001b[0m\u001b[0m\n\u001b[0;32m      5\u001b[0m \u001b[0mplt\u001b[0m\u001b[1;33m.\u001b[0m\u001b[0mhold\u001b[0m\u001b[1;33m(\u001b[0m\u001b[1;34m'on'\u001b[0m\u001b[1;33m)\u001b[0m\u001b[1;33m\u001b[0m\u001b[0m\n",
      "\u001b[1;32mC:\\MINICONDA2\\lib\\site-packages\\sklearn\\base.pyc\u001b[0m in \u001b[0;36mscore\u001b[1;34m(self, X, y, sample_weight)\u001b[0m\n\u001b[0;32m    345\u001b[0m \u001b[1;33m\u001b[0m\u001b[0m\n\u001b[0;32m    346\u001b[0m         \u001b[1;32mfrom\u001b[0m \u001b[1;33m.\u001b[0m\u001b[0mmetrics\u001b[0m \u001b[1;32mimport\u001b[0m \u001b[0mr2_score\u001b[0m\u001b[1;33m\u001b[0m\u001b[0m\n\u001b[1;32m--> 347\u001b[1;33m         return r2_score(y, self.predict(X), sample_weight=sample_weight,\n\u001b[0m\u001b[0;32m    348\u001b[0m                         multioutput='variance_weighted')\n\u001b[0;32m    349\u001b[0m \u001b[1;33m\u001b[0m\u001b[0m\n",
      "\u001b[1;32mC:\\MINICONDA2\\lib\\site-packages\\sklearn\\svm\\base.pyc\u001b[0m in \u001b[0;36mpredict\u001b[1;34m(self, X)\u001b[0m\n\u001b[0;32m    305\u001b[0m         \u001b[0mX\u001b[0m \u001b[1;33m=\u001b[0m \u001b[0mself\u001b[0m\u001b[1;33m.\u001b[0m\u001b[0m_validate_for_predict\u001b[0m\u001b[1;33m(\u001b[0m\u001b[0mX\u001b[0m\u001b[1;33m)\u001b[0m\u001b[1;33m\u001b[0m\u001b[0m\n\u001b[0;32m    306\u001b[0m         \u001b[0mpredict\u001b[0m \u001b[1;33m=\u001b[0m \u001b[0mself\u001b[0m\u001b[1;33m.\u001b[0m\u001b[0m_sparse_predict\u001b[0m \u001b[1;32mif\u001b[0m \u001b[0mself\u001b[0m\u001b[1;33m.\u001b[0m\u001b[0m_sparse\u001b[0m \u001b[1;32melse\u001b[0m \u001b[0mself\u001b[0m\u001b[1;33m.\u001b[0m\u001b[0m_dense_predict\u001b[0m\u001b[1;33m\u001b[0m\u001b[0m\n\u001b[1;32m--> 307\u001b[1;33m         \u001b[1;32mreturn\u001b[0m \u001b[0mpredict\u001b[0m\u001b[1;33m(\u001b[0m\u001b[0mX\u001b[0m\u001b[1;33m)\u001b[0m\u001b[1;33m\u001b[0m\u001b[0m\n\u001b[0m\u001b[0;32m    308\u001b[0m \u001b[1;33m\u001b[0m\u001b[0m\n\u001b[0;32m    309\u001b[0m     \u001b[1;32mdef\u001b[0m \u001b[0m_dense_predict\u001b[0m\u001b[1;33m(\u001b[0m\u001b[0mself\u001b[0m\u001b[1;33m,\u001b[0m \u001b[0mX\u001b[0m\u001b[1;33m)\u001b[0m\u001b[1;33m:\u001b[0m\u001b[1;33m\u001b[0m\u001b[0m\n",
      "\u001b[1;32mC:\\MINICONDA2\\lib\\site-packages\\sklearn\\svm\\base.pyc\u001b[0m in \u001b[0;36m_dense_predict\u001b[1;34m(self, X)\u001b[0m\n\u001b[0;32m    328\u001b[0m             \u001b[0mself\u001b[0m\u001b[1;33m.\u001b[0m\u001b[0mprobA_\u001b[0m\u001b[1;33m,\u001b[0m \u001b[0mself\u001b[0m\u001b[1;33m.\u001b[0m\u001b[0mprobB_\u001b[0m\u001b[1;33m,\u001b[0m \u001b[0msvm_type\u001b[0m\u001b[1;33m=\u001b[0m\u001b[0msvm_type\u001b[0m\u001b[1;33m,\u001b[0m \u001b[0mkernel\u001b[0m\u001b[1;33m=\u001b[0m\u001b[0mkernel\u001b[0m\u001b[1;33m,\u001b[0m\u001b[1;33m\u001b[0m\u001b[0m\n\u001b[0;32m    329\u001b[0m             \u001b[0mdegree\u001b[0m\u001b[1;33m=\u001b[0m\u001b[0mself\u001b[0m\u001b[1;33m.\u001b[0m\u001b[0mdegree\u001b[0m\u001b[1;33m,\u001b[0m \u001b[0mcoef0\u001b[0m\u001b[1;33m=\u001b[0m\u001b[0mself\u001b[0m\u001b[1;33m.\u001b[0m\u001b[0mcoef0\u001b[0m\u001b[1;33m,\u001b[0m \u001b[0mgamma\u001b[0m\u001b[1;33m=\u001b[0m\u001b[0mself\u001b[0m\u001b[1;33m.\u001b[0m\u001b[0m_gamma\u001b[0m\u001b[1;33m,\u001b[0m\u001b[1;33m\u001b[0m\u001b[0m\n\u001b[1;32m--> 330\u001b[1;33m             cache_size=self.cache_size)\n\u001b[0m\u001b[0;32m    331\u001b[0m \u001b[1;33m\u001b[0m\u001b[0m\n\u001b[0;32m    332\u001b[0m     \u001b[1;32mdef\u001b[0m \u001b[0m_sparse_predict\u001b[0m\u001b[1;33m(\u001b[0m\u001b[0mself\u001b[0m\u001b[1;33m,\u001b[0m \u001b[0mX\u001b[0m\u001b[1;33m)\u001b[0m\u001b[1;33m:\u001b[0m\u001b[1;33m\u001b[0m\u001b[0m\n",
      "\u001b[1;31mKeyboardInterrupt\u001b[0m: "
     ]
    }
   ],
   "source": [
    "lw = 2\n",
    "#plt.scatter(X, y, color='darkorange', label='data')\n",
    "plt.hold('on')\n",
    "plt.plot(X, y_rbf, color='navy', lw=lw, label='RBF model')\n",
    "plt.plot(X, y_lin, color='c', lw=lw, label='Linear model')\n",
    "plt.plot(X, y_poly, color='cornflowerblue', lw=lw, label='Polynomial model')\n",
    "plt.xlabel('data')\n",
    "plt.ylabel('target')\n",
    "plt.title('Support Vector Regression')\n",
    "plt.legend()\n",
    "plt.show()"
   ]
  },
  {
   "cell_type": "markdown",
   "metadata": {},
   "source": [
    "ranker"
   ]
  },
  {
   "cell_type": "code",
   "execution_count": null,
   "metadata": {
    "collapsed": true
   },
   "outputs": [],
   "source": [
    "# http://www2.warwick.ac.uk/fac/sci/moac/people/students/peter_cock/python/rank_correlations/\n",
    "# http://docs.scipy.org/doc/scipy-0.14.0/reference/generated/scipy.stats.spearmanr.html\n",
    "from scipy import spearmanr\n",
    "spearmanr([1,2,3,4,5],[5,6,7,8,7])"
   ]
  },
  {
   "cell_type": "markdown",
   "metadata": {},
   "source": [
    "numerical columns correlation"
   ]
  },
  {
   "cell_type": "code",
   "execution_count": 6,
   "metadata": {
    "collapsed": false
   },
   "outputs": [
    {
     "name": "stderr",
     "output_type": "stream",
     "text": [
      "C:\\MINICONDA2\\lib\\site-packages\\ipykernel\\__main__.py:4: SettingWithCopyWarning: \n",
      "A value is trying to be set on a copy of a slice from a DataFrame\n",
      "\n",
      "See the caveats in the documentation: http://pandas.pydata.org/pandas-docs/stable/indexing.html#indexing-view-versus-copy\n"
     ]
    }
   ],
   "source": [
    "numerics = ['int16', 'int32', 'int64', 'float16', 'float32', 'float64']\n",
    "df_mc_numerical = df_mc_.select_dtypes(include=numerics)\n",
    "df_mc_numerical.drop([\"imageDateCreated\", \"imageLongitude\", \"imageLatitude\", \"userId\", \"product\",\n",
    "                      \"conjoint_category\", \"brand_num\"], 1, inplace=True)"
   ]
  },
  {
   "cell_type": "code",
   "execution_count": 66,
   "metadata": {
    "collapsed": false
   },
   "outputs": [
    {
     "data": {
      "text/html": [
       "<div>\n",
       "<table border=\"1\" class=\"dataframe\">\n",
       "  <thead>\n",
       "    <tr style=\"text-align: right;\">\n",
       "      <th></th>\n",
       "      <th>imageTagCount</th>\n",
       "      <th>imageLikeCount</th>\n",
       "      <th>imageCommentCount</th>\n",
       "      <th>followedByCount</th>\n",
       "      <th>followersCount</th>\n",
       "      <th>postedMedia</th>\n",
       "      <th>googleFaceCount</th>\n",
       "      <th>likes_followed_ratio</th>\n",
       "      <th>sentiment_attribute_num</th>\n",
       "      <th>filter_attribute_num</th>\n",
       "      <th>face_attribute_num</th>\n",
       "      <th>logo_attribute_num</th>\n",
       "      <th>food_attribute_num</th>\n",
       "      <th>weekend_attribute_num</th>\n",
       "    </tr>\n",
       "  </thead>\n",
       "  <tbody>\n",
       "    <tr>\n",
       "      <th>0</th>\n",
       "      <td>7</td>\n",
       "      <td>3</td>\n",
       "      <td>0</td>\n",
       "      <td>132</td>\n",
       "      <td>268</td>\n",
       "      <td>1111</td>\n",
       "      <td>0</td>\n",
       "      <td>2.272727</td>\n",
       "      <td>0.500000</td>\n",
       "      <td>0</td>\n",
       "      <td>0</td>\n",
       "      <td>0</td>\n",
       "      <td>0</td>\n",
       "      <td>0</td>\n",
       "    </tr>\n",
       "    <tr>\n",
       "      <th>1</th>\n",
       "      <td>24</td>\n",
       "      <td>27</td>\n",
       "      <td>2</td>\n",
       "      <td>158</td>\n",
       "      <td>136</td>\n",
       "      <td>333</td>\n",
       "      <td>0</td>\n",
       "      <td>17.088608</td>\n",
       "      <td>-0.220000</td>\n",
       "      <td>0</td>\n",
       "      <td>0</td>\n",
       "      <td>0</td>\n",
       "      <td>0</td>\n",
       "      <td>1</td>\n",
       "    </tr>\n",
       "    <tr>\n",
       "      <th>2</th>\n",
       "      <td>3</td>\n",
       "      <td>4</td>\n",
       "      <td>1</td>\n",
       "      <td>123</td>\n",
       "      <td>96</td>\n",
       "      <td>55</td>\n",
       "      <td>0</td>\n",
       "      <td>3.252033</td>\n",
       "      <td>0.000000</td>\n",
       "      <td>1</td>\n",
       "      <td>0</td>\n",
       "      <td>0</td>\n",
       "      <td>0</td>\n",
       "      <td>1</td>\n",
       "    </tr>\n",
       "    <tr>\n",
       "      <th>3</th>\n",
       "      <td>20</td>\n",
       "      <td>65</td>\n",
       "      <td>2</td>\n",
       "      <td>2056</td>\n",
       "      <td>1779</td>\n",
       "      <td>109</td>\n",
       "      <td>0</td>\n",
       "      <td>3.161479</td>\n",
       "      <td>-0.600000</td>\n",
       "      <td>0</td>\n",
       "      <td>0</td>\n",
       "      <td>0</td>\n",
       "      <td>1</td>\n",
       "      <td>1</td>\n",
       "    </tr>\n",
       "    <tr>\n",
       "      <th>4</th>\n",
       "      <td>24</td>\n",
       "      <td>5370</td>\n",
       "      <td>93</td>\n",
       "      <td>87660</td>\n",
       "      <td>3775</td>\n",
       "      <td>4568</td>\n",
       "      <td>0</td>\n",
       "      <td>6.125941</td>\n",
       "      <td>-0.220000</td>\n",
       "      <td>0</td>\n",
       "      <td>0</td>\n",
       "      <td>0</td>\n",
       "      <td>0</td>\n",
       "      <td>1</td>\n",
       "    </tr>\n",
       "    <tr>\n",
       "      <th>5</th>\n",
       "      <td>10</td>\n",
       "      <td>5</td>\n",
       "      <td>1</td>\n",
       "      <td>7</td>\n",
       "      <td>16</td>\n",
       "      <td>1</td>\n",
       "      <td>0</td>\n",
       "      <td>71.428571</td>\n",
       "      <td>1.000000</td>\n",
       "      <td>0</td>\n",
       "      <td>0</td>\n",
       "      <td>0</td>\n",
       "      <td>0</td>\n",
       "      <td>1</td>\n",
       "    </tr>\n",
       "    <tr>\n",
       "      <th>7</th>\n",
       "      <td>12</td>\n",
       "      <td>14</td>\n",
       "      <td>3</td>\n",
       "      <td>608</td>\n",
       "      <td>1676</td>\n",
       "      <td>1837</td>\n",
       "      <td>1</td>\n",
       "      <td>2.302632</td>\n",
       "      <td>0.500000</td>\n",
       "      <td>0</td>\n",
       "      <td>1</td>\n",
       "      <td>1</td>\n",
       "      <td>0</td>\n",
       "      <td>0</td>\n",
       "    </tr>\n",
       "    <tr>\n",
       "      <th>8</th>\n",
       "      <td>28</td>\n",
       "      <td>223</td>\n",
       "      <td>17</td>\n",
       "      <td>7576</td>\n",
       "      <td>2666</td>\n",
       "      <td>544</td>\n",
       "      <td>0</td>\n",
       "      <td>2.943506</td>\n",
       "      <td>-0.325000</td>\n",
       "      <td>0</td>\n",
       "      <td>0</td>\n",
       "      <td>0</td>\n",
       "      <td>1</td>\n",
       "      <td>0</td>\n",
       "    </tr>\n",
       "    <tr>\n",
       "      <th>9</th>\n",
       "      <td>30</td>\n",
       "      <td>16</td>\n",
       "      <td>0</td>\n",
       "      <td>31</td>\n",
       "      <td>13</td>\n",
       "      <td>18</td>\n",
       "      <td>0</td>\n",
       "      <td>51.612903</td>\n",
       "      <td>0.292708</td>\n",
       "      <td>0</td>\n",
       "      <td>0</td>\n",
       "      <td>0</td>\n",
       "      <td>1</td>\n",
       "      <td>0</td>\n",
       "    </tr>\n",
       "    <tr>\n",
       "      <th>10</th>\n",
       "      <td>8</td>\n",
       "      <td>9</td>\n",
       "      <td>0</td>\n",
       "      <td>68</td>\n",
       "      <td>68</td>\n",
       "      <td>73</td>\n",
       "      <td>0</td>\n",
       "      <td>13.235294</td>\n",
       "      <td>0.000000</td>\n",
       "      <td>0</td>\n",
       "      <td>0</td>\n",
       "      <td>0</td>\n",
       "      <td>0</td>\n",
       "      <td>0</td>\n",
       "    </tr>\n",
       "  </tbody>\n",
       "</table>\n",
       "</div>"
      ],
      "text/plain": [
       "    imageTagCount  imageLikeCount  imageCommentCount  followedByCount  followersCount  postedMedia  googleFaceCount  likes_followed_ratio  sentiment_attribute_num  filter_attribute_num  face_attribute_num  logo_attribute_num  food_attribute_num  weekend_attribute_num\n",
       "0               7               3                  0              132             268         1111                0              2.272727                 0.500000                     0                   0                   0                   0                      0\n",
       "1              24              27                  2              158             136          333                0             17.088608                -0.220000                     0                   0                   0                   0                      1\n",
       "2               3               4                  1              123              96           55                0              3.252033                 0.000000                     1                   0                   0                   0                      1\n",
       "3              20              65                  2             2056            1779          109                0              3.161479                -0.600000                     0                   0                   0                   1                      1\n",
       "4              24            5370                 93            87660            3775         4568                0              6.125941                -0.220000                     0                   0                   0                   0                      1\n",
       "5              10               5                  1                7              16            1                0             71.428571                 1.000000                     0                   0                   0                   0                      1\n",
       "7              12              14                  3              608            1676         1837                1              2.302632                 0.500000                     0                   1                   1                   0                      0\n",
       "8              28             223                 17             7576            2666          544                0              2.943506                -0.325000                     0                   0                   0                   1                      0\n",
       "9              30              16                  0               31              13           18                0             51.612903                 0.292708                     0                   0                   0                   1                      0\n",
       "10              8               9                  0               68              68           73                0             13.235294                 0.000000                     0                   0                   0                   0                      0"
      ]
     },
     "execution_count": 66,
     "metadata": {},
     "output_type": "execute_result"
    }
   ],
   "source": [
    "df_mc_numerical.head(10)"
   ]
  },
  {
   "cell_type": "code",
   "execution_count": 90,
   "metadata": {
    "collapsed": false
   },
   "outputs": [
    {
     "data": {
      "image/png": "[encoded data removed]",
      "text/plain": [
       "<matplotlib.figure.Figure at 0x1e7b3278>"
      ]
     },
     "metadata": {},
     "output_type": "display_data"
    }
   ],
   "source": [
    "from matplotlib import ticker\n",
    "alpha = [\"imageTagCount\", \"imageLikeCount\", \"imageCommentCount\", \"followedByCount\", \"followersCount\",\n",
    "         \"postedMedia\", \"googleFaceCount\", \"likes_followed_ratio\", \"sentiment_attribute_num\",\n",
    "         \"filter_attribute_num\", \"face_attribute_num\", \"logo_attribute_num\", \"food_attribute_num\", \"weekend_attribute_num\"]\n",
    "\n",
    "fig = plt.figure()\n",
    "ax = fig.add_subplot(111)\n",
    "cax = ax.matshow(df_mc_numerical.corr(), interpolation='nearest')\n",
    "fig.colorbar(cax)\n",
    "fig.set_figheight(7)\n",
    "\n",
    "\n",
    "ax.set_xticklabels(['']+alpha)\n",
    "ax.set_yticklabels(['']+alpha)\n",
    "ax.axis('image')\n",
    "ax.xaxis.set_major_locator(ticker.MultipleLocator(1))\n",
    "ax.yaxis.set_major_locator(ticker.MultipleLocator(1))\n",
    "plt.show()\n"
   ]
  }
 ],
 "metadata": {
  "kernelspec": {
   "display_name": "Python 2",
   "language": "python",
   "name": "python2"
  },
  "language_info": {
   "codemirror_mode": {
    "name": "ipython",
    "version": 2
   },
   "file_extension": ".py",
   "mimetype": "text/x-python",
   "name": "python",
   "nbconvert_exporter": "python",
   "pygments_lexer": "ipython2",
   "version": "2.7.11"
  }
 },
 "nbformat": 4,
 "nbformat_minor": 1
}
